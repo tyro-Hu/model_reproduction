{
 "cells": [
  {
   "cell_type": "code",
   "execution_count": 1,
   "id": "initial_id",
   "metadata": {
    "collapsed": true,
    "ExecuteTime": {
     "end_time": "2025-07-30T02:10:10.553286Z",
     "start_time": "2025-07-30T02:09:43.395279Z"
    }
   },
   "outputs": [],
   "source": [
    "import torch\n",
    "import torch.nn as nn\n",
    "import torch.nn.functional as F\n",
    "import torch.optim as optim\n",
    "from torch.utils.data import DataLoader, random_split\n",
    "from torchvision import datasets\n",
    "import torchvision.transforms as transforms"
   ]
  },
  {
   "cell_type": "code",
   "outputs": [
    {
     "data": {
      "text/plain": "(torch.Size([1, 9, 28, 28]), torch.Size([1, 9, 28, 28]))"
     },
     "execution_count": 8,
     "metadata": {},
     "output_type": "execute_result"
    }
   ],
   "source": [
    "# 卷积层小技巧\n",
    "# 技巧1. 让卷积层的输入和输出形状一样\n",
    "channels = torch.randint(1, 10, (1,)) # 随机channel整数\n",
    "conv1 = nn.Conv2d(channels, channels, (3, 3), stride=1, padding=1) # 经典的参数设计，不唯一\n",
    "x = torch.randn(1, channels, 28, 28) # 初始化数据\n",
    "x.shape, conv1(x).shape"
   ],
   "metadata": {
    "collapsed": false,
    "ExecuteTime": {
     "end_time": "2025-07-30T02:16:37.371488Z",
     "start_time": "2025-07-30T02:16:37.364460Z"
    }
   },
   "id": "a9d7d824ad4c4a22",
   "execution_count": 8
  },
  {
   "cell_type": "code",
   "outputs": [],
   "source": [
    "# 手写实现残差连接1 -> 手写笔记中第一种工程方法\n",
    "class ResidualBlockSimplified(nn.Module):\n",
    "    def __init__(self, channel):\n",
    "        super().__init__()\n",
    "        self.conv1 = nn.Conv2d(channel, channel, (3, 3), stride=1, padding=1)\n",
    "        self.conv2 = nn.Conv2d(channel, channel, (3, 3), stride=1, padding=1)\n",
    "        \n",
    "    def forward(self, x):\n",
    "        inputs = x\n",
    "        x = F.relu(self.conv1(x))\n",
    "        x = self.conv2(x)\n",
    "        x = F.relu(inputs + x)  # 这里就是残差连接\n",
    "        return x"
   ],
   "metadata": {
    "collapsed": false,
    "ExecuteTime": {
     "end_time": "2025-07-30T02:28:50.550133Z",
     "start_time": "2025-07-30T02:28:50.545766Z"
    }
   },
   "id": "95f80039a6d711d4",
   "execution_count": 11
  },
  {
   "cell_type": "code",
   "outputs": [
    {
     "data": {
      "text/plain": "torch.Size([1, 3, 28, 28])"
     },
     "execution_count": 12,
     "metadata": {},
     "output_type": "execute_result"
    }
   ],
   "source": [
    "model = ResidualBlockSimplified(3)\n",
    "x = torch.randn(1, 3, 28, 28)\n",
    "model(x).shape"
   ],
   "metadata": {
    "collapsed": false,
    "ExecuteTime": {
     "end_time": "2025-07-30T02:28:52.521816Z",
     "start_time": "2025-07-30T02:28:52.502909Z"
    }
   },
   "id": "c60a7c82c94f90f9",
   "execution_count": 12
  },
  {
   "cell_type": "code",
   "outputs": [],
   "source": [],
   "metadata": {
    "collapsed": false,
    "ExecuteTime": {
     "end_time": "2025-07-30T02:31:16.661830Z",
     "start_time": "2025-07-30T02:31:16.659029Z"
    }
   },
   "id": "d0580fc3c8a3d553",
   "execution_count": 12
  },
  {
   "cell_type": "code",
   "outputs": [],
   "source": [],
   "metadata": {
    "collapsed": false
   },
   "id": "5f96120207f47299"
  },
  {
   "cell_type": "code",
   "outputs": [],
   "source": [],
   "metadata": {
    "collapsed": false
   },
   "id": "c2b5a21ff25d8984"
  },
  {
   "cell_type": "code",
   "outputs": [
    {
     "data": {
      "text/plain": "(torch.Size([1, 8, 4, 4]), torch.Size([1, 8, 4, 4]))"
     },
     "execution_count": 16,
     "metadata": {},
     "output_type": "execute_result"
    }
   ],
   "source": [
    "# 技巧2：两个卷积操作的输出形状一样\n",
    "stride = torch.randint(1, 10, (1,))\n",
    "in_channels = torch.randint(1, 10, (1,))\n",
    "out_channels = torch.randint(1, 10, (1,))\n",
    "conv1 = nn.Conv2d(in_channels, out_channels, (3, 3), stride=stride, padding=1)\n",
    "conv2 = nn.Conv2d(in_channels, out_channels, (1, 1), stride=stride, padding=0)\n",
    "x = torch.randn(1, in_channels, 28, 28)\n",
    "conv1(x).shape, conv2(x).shape"
   ],
   "metadata": {
    "collapsed": false,
    "ExecuteTime": {
     "end_time": "2025-07-30T02:36:44.924955Z",
     "start_time": "2025-07-30T02:36:44.916311Z"
    }
   },
   "id": "b5269f0f4f90e77d",
   "execution_count": 16
  },
  {
   "cell_type": "code",
   "outputs": [],
   "source": [
    "# 手写实现残差连接2 -> 手写笔记中第二种工程方法\n",
    "class ResidualBlock(nn.Module):\n",
    "    def __init__(self, in_channels, out_channels, stride=1):\n",
    "        super().__init__()\n",
    "        self.conv1 = nn.Conv2d(in_channels, out_channels, (3, 3), stride=stride, padding=1) # 输入输出形状可能不同\n",
    "        self.conv2 = nn.Conv2d(out_channels, out_channels, (3, 3), stride=1, padding=1) # 输入输出的形状相同\n",
    "        self.downsample = None\n",
    "        if stride != 1 or in_channels != out_channels:\n",
    "            self.downsample = nn.Conv2d(in_channels, out_channels, (1, 1), stride=stride, padding=0)\n",
    "        \n",
    "    def forward(self, x):\n",
    "        inputs = x\n",
    "        x = F.relu(self.conv1(x))\n",
    "        x = self.conv2(x)\n",
    "        if self.downsample:\n",
    "            inputs = self.downsample(inputs)\n",
    "        outputs = F.relu((x + inputs))  # 这里是残差连接\n",
    "        return outputs\n",
    "        "
   ],
   "metadata": {
    "collapsed": false,
    "ExecuteTime": {
     "end_time": "2025-07-30T03:01:10.216595Z",
     "start_time": "2025-07-30T03:01:10.209171Z"
    }
   },
   "id": "590bd196812e5cad",
   "execution_count": 17
  },
  {
   "cell_type": "code",
   "outputs": [
    {
     "data": {
      "text/plain": "torch.Size([1, 4, 14, 14])"
     },
     "execution_count": 18,
     "metadata": {},
     "output_type": "execute_result"
    }
   ],
   "source": [
    "model = ResidualBlock(3, 4, 2)\n",
    "x = torch.randn(1, 3, 28, 28)\n",
    "model(x).shape"
   ],
   "metadata": {
    "collapsed": false,
    "ExecuteTime": {
     "end_time": "2025-07-30T03:02:03.056730Z",
     "start_time": "2025-07-30T03:02:03.048249Z"
    }
   },
   "id": "ca6903a657d226e2",
   "execution_count": 18
  },
  {
   "cell_type": "code",
   "outputs": [],
   "source": [],
   "metadata": {
    "collapsed": false,
    "ExecuteTime": {
     "end_time": "2025-07-30T03:02:21.996288Z",
     "start_time": "2025-07-30T03:02:21.992778Z"
    }
   },
   "id": "d19bb3f8d063b24a",
   "execution_count": 18
  },
  {
   "cell_type": "code",
   "outputs": [],
   "source": [
    "# 第二种方法的优化 -> 加入归一化层\n",
    "class ResidualBlock(nn.Module):\n",
    "    def __init__(self, in_channels, out_channels, stride=1):\n",
    "        super().__init__()\n",
    "        self.conv1 = nn.Conv2d(in_channels, out_channels, (3, 3), stride=stride, padding=1) # 输入输出形状可能不同\n",
    "        self.bn1 = nn.BatchNorm2d(out_channels) # 归一化层\n",
    "        self.conv2 = nn.Conv2d(out_channels, out_channels, (3, 3), stride=1, padding=1) # 输入输出的形状相同\n",
    "        self.bn2 = nn.BatchNorm2d(out_channels) # 归一化层\n",
    "        self.downsample = None\n",
    "        if stride != 1 or in_channels != out_channels:\n",
    "            self.downsample = nn.Conv2d(in_channels, out_channels, (1, 1), stride=stride, padding=0)\n",
    "            self.bn3 = nn.BatchNorm2d(out_channels) # 归一化层\n",
    "        \n",
    "    def forward(self, x):\n",
    "        inputs = x\n",
    "        x = F.relu(self.bn1(self.conv1(x)))\n",
    "        x = self.bn2(self.conv2(x))\n",
    "        if self.downsample:\n",
    "            inputs = self.bn3(self.downsample(inputs))\n",
    "        outputs = F.relu((x + inputs))  # 这里是残差连接\n",
    "        return outputs"
   ],
   "metadata": {
    "collapsed": false,
    "ExecuteTime": {
     "end_time": "2025-07-30T03:10:13.224103Z",
     "start_time": "2025-07-30T03:10:13.214623Z"
    }
   },
   "id": "6edd16416afe3912",
   "execution_count": 19
  },
  {
   "cell_type": "code",
   "outputs": [
    {
     "data": {
      "text/plain": "torch.Size([1, 5, 14, 14])"
     },
     "execution_count": 20,
     "metadata": {},
     "output_type": "execute_result"
    }
   ],
   "source": [
    "model = ResidualBlock(3, 5, 2)\n",
    "x = torch.randn(1, 3, 28, 28)\n",
    "model(x).shape"
   ],
   "metadata": {
    "collapsed": false,
    "ExecuteTime": {
     "end_time": "2025-07-30T03:10:20.282153Z",
     "start_time": "2025-07-30T03:10:20.239896Z"
    }
   },
   "id": "e9857560d75c3e72",
   "execution_count": 20
  },
  {
   "cell_type": "code",
   "outputs": [],
   "source": [],
   "metadata": {
    "collapsed": false
   },
   "id": "9eff45a3b8b7c1ef"
  },
  {
   "cell_type": "code",
   "outputs": [],
   "source": [],
   "metadata": {
    "collapsed": false
   },
   "id": "7f653fa8afa310cf"
  },
  {
   "cell_type": "code",
   "outputs": [],
   "source": [
    "# 实现残差网络，用于图片分类（残差网络就是上面实现过的残差块的叠加）\n",
    "class Resnet(nn.Module):\n",
    "    def __init__(self):\n",
    "        super().__init__()\n",
    "        self.block1 = ResidualBlock(1, 20)\n",
    "        self.block2 = ResidualBlock(20, 40, stride=2)\n",
    "        self.block3 = ResidualBlock(40, 60, stride=2)\n",
    "        self.block4 = ResidualBlock(60, 80, stride=2)\n",
    "        self.block5 = ResidualBlock(80, 100, stride=2)\n",
    "        self.block6 = ResidualBlock(100, 120, stride=2)\n",
    "        self.fc = nn.Linear(120, 10)\n",
    "        \n",
    "    def forward(self, x):\n",
    "        # x : (B, 1, 28, 28)\n",
    "        B = x.shape[0]\n",
    "        x = self.block1(x)  # (B, 20, 28, 28)\n",
    "        x = self.block2(x)  # (B, 40, 14, 14)\n",
    "        x = self.block3(x)  # (B, 60, 7, 7)\n",
    "        x = self.block4(x)  # (B, 80, 4, 4)\n",
    "        x = self.block5(x)  # (B, 100, 2, 2)\n",
    "        x = self.block6(x)  # (B, 120, 1, 1)\n",
    "        x = self.fc(x.view(B, -1))      # (B, 10)\n",
    "        return x\n",
    "        "
   ],
   "metadata": {
    "collapsed": false,
    "ExecuteTime": {
     "end_time": "2025-07-30T03:24:05.344520Z",
     "start_time": "2025-07-30T03:24:05.334736Z"
    }
   },
   "id": "e275573601a4c3b",
   "execution_count": 22
  },
  {
   "cell_type": "code",
   "outputs": [
    {
     "data": {
      "text/plain": "torch.Size([10, 10])"
     },
     "execution_count": 23,
     "metadata": {},
     "output_type": "execute_result"
    }
   ],
   "source": [
    "model = Resnet()\n",
    "x = torch.randn(10, 1, 28, 28)\n",
    "model(x).shape"
   ],
   "metadata": {
    "collapsed": false,
    "ExecuteTime": {
     "end_time": "2025-07-30T03:25:15.684023Z",
     "start_time": "2025-07-30T03:25:15.590204Z"
    }
   },
   "id": "1c55ed86ee8fbc34",
   "execution_count": 23
  },
  {
   "cell_type": "code",
   "outputs": [],
   "source": [
    "torch.manual_seed(726)\n",
    "\n",
    "# 加载数据\n",
    "dataset = datasets.MNIST(\".\\mnist\", train=True, download=True, transform=transforms.ToTensor()) \n",
    "train_set, val_set = random_split(dataset, [50000, 10000])\n",
    "test_set = datasets.MNIST('.\\mnist', train=False, download=False, transform=transforms.ToTensor())\n",
    "\n",
    "# 创建数据加载器\n",
    "train_loader = DataLoader(train_set, batch_size=500, shuffle=True)\n",
    "val_loader = DataLoader(val_set, batch_size=500, shuffle=True)\n",
    "test_loader = DataLoader(test_set, batch_size=500, shuffle=True)"
   ],
   "metadata": {
    "collapsed": false,
    "ExecuteTime": {
     "end_time": "2025-07-30T03:27:23.618947Z",
     "start_time": "2025-07-30T03:27:23.359659Z"
    }
   },
   "id": "420e74253da7bee6",
   "execution_count": 24
  },
  {
   "cell_type": "code",
   "outputs": [],
   "source": [
    "# 评估模型\n",
    "\n",
    "# 评估轮数，取平均\n",
    "eval_iters = 10\n",
    "\n",
    "# 评估训练集，验证集和测试集的loss和精度\n",
    "def estimate_loss(model):\n",
    "    re = {}\n",
    "    # 将模型切换为评估模式\n",
    "    model.eval()\n",
    "    re['train'] = _loss(model, train_loader)\n",
    "    re['val'] = _loss(model, val_loader)\n",
    "    re['test'] = _loss(model, test_loader)\n",
    "    # 将模型切换为训练模式\n",
    "    model.train()\n",
    "    return re\n",
    "\n",
    "def _loss(model, dataloader):\n",
    "    # 估算模型效果\n",
    "    loss = []\n",
    "    acc = []\n",
    "    data_iter = iter(dataloader)\n",
    "    for t in range(eval_iters):\n",
    "        inputs, labels = next(data_iter) # inputs:(500, 1, 28, 28) label:(500)\n",
    "        B = inputs.shape[0]\n",
    "        logits = model(inputs) # logits: (500, 10)\n",
    "        loss.append(F.cross_entropy(logits, labels))\n",
    "        preds = torch.argmax(logits, dim=-1)\n",
    "        acc.append((preds == labels).sum() / B)\n",
    "    re = {\n",
    "        'loss' : torch.tensor(loss).mean().item(),\n",
    "        'acc': torch.tensor(acc).mean().item()\n",
    "    }\n",
    "    return re\n",
    "        \n",
    "        \n"
   ],
   "metadata": {
    "collapsed": false,
    "ExecuteTime": {
     "end_time": "2025-07-30T03:27:27.235803Z",
     "start_time": "2025-07-30T03:27:27.228383Z"
    }
   },
   "id": "11f0bf3270beecbd",
   "execution_count": 25
  },
  {
   "cell_type": "code",
   "outputs": [],
   "source": [
    "def train_model(model, optimizer, epoch=10):\n",
    "    for e in range(epoch):\n",
    "        for data in train_loader:\n",
    "            inputs, labels = data\n",
    "            logits = model(inputs)\n",
    "            loss = F.cross_entropy(logits, labels)\n",
    "            optimizer.zero_grad()\n",
    "            loss.backward()\n",
    "            optimizer.step()\n",
    "        # 每个epoch之后，在训练集、验证集和测试集上查看损失\n",
    "        stats = estimate_loss(model)\n",
    "        train_loss = f'{stats[\"train\"][\"loss\"]:.3f}'\n",
    "        val_loss = f'{stats[\"val\"][\"loss\"]:.3f}'\n",
    "        test_loss = f'{stats[\"test\"][\"loss\"]:.3f}'\n",
    "        print(f'epoch {e} train {train_loss} val {val_loss} test {test_loss}')\n",
    "                "
   ],
   "metadata": {
    "collapsed": false,
    "ExecuteTime": {
     "end_time": "2025-07-30T03:27:29.145604Z",
     "start_time": "2025-07-30T03:27:29.138668Z"
    }
   },
   "id": "8278c4576b50a8ae",
   "execution_count": 26
  },
  {
   "cell_type": "code",
   "outputs": [
    {
     "name": "stdout",
     "output_type": "stream",
     "text": [
      "epoch 0 train 0.066 val 0.069 test 0.064\n",
      "epoch 1 train 0.042 val 0.047 test 0.056\n",
      "epoch 2 train 0.027 val 0.046 test 0.039\n",
      "epoch 3 train 0.027 val 0.036 test 0.037\n",
      "epoch 4 train 0.027 val 0.043 test 0.043\n",
      "epoch 5 train 0.020 val 0.044 test 0.046\n",
      "epoch 6 train 0.014 val 0.033 test 0.036\n",
      "epoch 7 train 0.015 val 0.053 test 0.045\n",
      "epoch 8 train 0.021 val 0.055 test 0.039\n",
      "epoch 9 train 0.019 val 0.043 test 0.035\n"
     ]
    }
   ],
   "source": [
    "train_model(model, optim.Adam(model.parameters(), lr=0.01))"
   ],
   "metadata": {
    "collapsed": false,
    "ExecuteTime": {
     "end_time": "2025-07-30T03:41:37.887876Z",
     "start_time": "2025-07-30T03:27:54.358163Z"
    }
   },
   "id": "13eb62080596042d",
   "execution_count": 27
  },
  {
   "cell_type": "code",
   "outputs": [
    {
     "data": {
      "text/plain": "{'train': {'loss': 0.014137955382466316, 'acc': 0.9958000183105469},\n 'val': {'loss': 0.04044456034898758, 'acc': 0.9891999363899231},\n 'test': {'loss': 0.03456671163439751, 'acc': 0.9911999702453613}}"
     },
     "execution_count": 28,
     "metadata": {},
     "output_type": "execute_result"
    }
   ],
   "source": [
    "estimate_loss(model)"
   ],
   "metadata": {
    "collapsed": false,
    "ExecuteTime": {
     "end_time": "2025-07-30T04:44:04.570656Z",
     "start_time": "2025-07-30T04:43:53.443629Z"
    }
   },
   "id": "bfbfb1e13957aac1",
   "execution_count": 28
  },
  {
   "cell_type": "code",
   "outputs": [],
   "source": [],
   "metadata": {
    "collapsed": false
   },
   "id": "bc5ee2cb34ff9f87"
  }
 ],
 "metadata": {
  "kernelspec": {
   "name": "pytorch22",
   "language": "python",
   "display_name": "pytorch22"
  },
  "language_info": {
   "codemirror_mode": {
    "name": "ipython",
    "version": 2
   },
   "file_extension": ".py",
   "mimetype": "text/x-python",
   "name": "python",
   "nbconvert_exporter": "python",
   "pygments_lexer": "ipython2",
   "version": "2.7.6"
  }
 },
 "nbformat": 4,
 "nbformat_minor": 5
}
