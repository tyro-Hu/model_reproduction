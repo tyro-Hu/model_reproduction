{
 "cells": [
  {
   "cell_type": "code",
   "outputs": [],
   "source": [
    "# 卷积神经网络的手写实现\n",
    "import torch\n",
    "import torch.nn as nn\n",
    "\n",
    "def conv_example(in_channel, kernel):\n",
    "    # in_channel (28, 28)\n",
    "    # kernel (5, 5)\n",
    "    output = torch.zeros(24, 24)\n",
    "    for h in range(24):\n",
    "        for w in range(24):\n",
    "            inputs = in_channel[h:h+5, w:w+5]\n",
    "            output[h, w] = (inputs * kernel).sum()\n",
    "    return output"
   ],
   "metadata": {
    "collapsed": false,
    "ExecuteTime": {
     "end_time": "2025-07-30T01:30:53.549579Z",
     "start_time": "2025-07-30T01:30:53.506448Z"
    }
   },
   "id": "f37e3174253f306f",
   "execution_count": 25
  },
  {
   "cell_type": "code",
   "outputs": [
    {
     "data": {
      "text/plain": "torch.Size([24, 24])"
     },
     "execution_count": 29,
     "metadata": {},
     "output_type": "execute_result"
    }
   ],
   "source": [
    "x = torch.randn(1, 1, 28, 28)\n",
    "m = nn.Conv2d(1, 1, (5, 5), bias = False)\n",
    "result = conv_example(x.squeeze(0, 1), m.weight.squeeze(0, 1))\n",
    "result.shape"
   ],
   "metadata": {
    "collapsed": false,
    "ExecuteTime": {
     "end_time": "2025-07-30T01:34:00.513117Z",
     "start_time": "2025-07-30T01:34:00.485739Z"
    }
   },
   "id": "85ea1a0d9f93f40",
   "execution_count": 29
  },
  {
   "cell_type": "code",
   "outputs": [],
   "source": [],
   "metadata": {
    "collapsed": false,
    "ExecuteTime": {
     "end_time": "2025-07-30T01:25:07.661581Z",
     "start_time": "2025-07-30T01:25:07.657943Z"
    }
   },
   "id": "18dba4d20a6b1716",
   "execution_count": 24
  },
  {
   "cell_type": "code",
   "outputs": [],
   "source": [
    "# 卷积神经网络的实现\n",
    "import torch\n",
    "import torch.nn as nn\n",
    "import torch.nn.functional as F\n",
    "import torch.optim as optim\n",
    "from torch.utils.data import DataLoader, random_split\n",
    "from torchvision import datasets\n",
    "import torchvision.transforms as transforms\n",
    "import matplotlib.pyplot as plt\n",
    "\n",
    "torch.manual_seed(726)\n",
    "\n",
    "# 加载数据\n",
    "dataset = datasets.MNIST(\".\\mnist\", train=True, download=True, transform=transforms.ToTensor()) \n",
    "train_set, val_set = random_split(dataset, [50000, 10000])\n",
    "test_set = datasets.MNIST('.\\mnist', train=False, download=False, transform=transforms.ToTensor())\n",
    "\n",
    "# 创建数据加载器\n",
    "train_loader = DataLoader(train_set, batch_size=500, shuffle=True)\n",
    "val_loader = DataLoader(val_set, batch_size=500, shuffle=True)\n",
    "test_loader = DataLoader(test_set, batch_size=500, shuffle=True)"
   ],
   "metadata": {
    "ExecuteTime": {
     "end_time": "2025-07-27T12:53:35.022048Z",
     "start_time": "2025-07-27T12:53:34.595674Z"
    }
   },
   "id": "initial_id",
   "execution_count": 11
  },
  {
   "cell_type": "code",
   "outputs": [],
   "source": [
    "class CNN(nn.Module):\n",
    "    def __init__(self):\n",
    "        super().__init__()\n",
    "        self.conv1 = nn.Conv2d(1, 20, (5, 5))\n",
    "        self.pool1 = nn.MaxPool2d(2, 2)\n",
    "        self.conv2 = nn.Conv2d(20, 40, (5, 5))\n",
    "        self.pool2 = nn.MaxPool2d(2, 2)\n",
    "        self.fc1 = nn.Linear(40 * 4 * 4, 120)\n",
    "        self.fc2 = nn.Linear(120, 10)\n",
    "        \n",
    "    def forward(self, x):\n",
    "        # x :(B, 1, 28, 28)\n",
    "        B = x.shape[0]\n",
    "        x = F.relu(self.conv1(x))  # (B, 20, 24, 24)\n",
    "        x = self.pool1(x)          # (B, 20, 12, 12)\n",
    "        x = F.relu(self.conv2(x))  # (B, 40, 8, 8)\n",
    "        x = self.pool2(x)          # (B, 40, 4, 4)\n",
    "        x = F.relu(self.fc1(x.view(B, -1)))  # (B, 120)\n",
    "        x = self.fc2(x)                      # (B, 10)\n",
    "        return x\n",
    "    \n",
    "model = CNN()\n",
    "        "
   ],
   "metadata": {
    "collapsed": false,
    "ExecuteTime": {
     "end_time": "2025-07-27T12:53:39.300585Z",
     "start_time": "2025-07-27T12:53:39.249471Z"
    }
   },
   "id": "84f76a90e6bc88ba",
   "execution_count": 12
  },
  {
   "cell_type": "code",
   "execution_count": 14,
   "id": "0eaee908-0f2a-469a-ac08-f635d43a9ecb",
   "metadata": {
    "ExecuteTime": {
     "end_time": "2025-07-27T13:03:00.861399Z",
     "start_time": "2025-07-27T13:03:00.846073Z"
    }
   },
   "outputs": [],
   "source": [
    "# 评估模型\n",
    "\n",
    "# 评估轮数，取平均\n",
    "eval_iters = 10\n",
    "\n",
    "# 评估训练集，验证集和测试集的loss和精度\n",
    "def estimate_loss(model):\n",
    "    re = {}\n",
    "    # 将模型切换为评估模式\n",
    "    model.eval()\n",
    "    re['train'] = _loss(model, train_loader)\n",
    "    re['val'] = _loss(model, val_loader)\n",
    "    re['test'] = _loss(model, test_loader)\n",
    "    # 将模型切换为训练模式\n",
    "    model.train()\n",
    "    return re\n",
    "\n",
    "def _loss(model, dataloader):\n",
    "    # 估算模型效果\n",
    "    loss = []\n",
    "    acc = []\n",
    "    data_iter = iter(dataloader)\n",
    "    for t in range(eval_iters):\n",
    "        inputs, labels = next(data_iter) # inputs:(500, 1, 28, 28) label:(500)\n",
    "        B = inputs.shape[0]\n",
    "        logits = model(inputs) # logits: (500, 10)\n",
    "        loss.append(F.cross_entropy(logits, labels))\n",
    "        preds = torch.argmax(logits, dim=-1)\n",
    "        acc.append((preds == labels).sum() / B)\n",
    "    re = {\n",
    "        'loss' : torch.tensor(loss).mean().item(),\n",
    "        'acc': torch.tensor(acc).mean().item()\n",
    "    }\n",
    "    return re\n",
    "        \n",
    "        \n"
   ]
  },
  {
   "cell_type": "code",
   "outputs": [],
   "source": [
    "def train_model(model, optimizer, epoch=10):\n",
    "    for e in range(epoch):\n",
    "        for data in train_loader:\n",
    "            inputs, labels = data\n",
    "            logits = model(inputs)\n",
    "            loss = F.cross_entropy(logits, labels)\n",
    "            optimizer.zero_grad()\n",
    "            loss.backward()\n",
    "            optimizer.step()\n",
    "        # 每个epoch之后，在训练集、验证集和测试集上查看损失\n",
    "        stats = estimate_loss(model)\n",
    "        train_loss = f'{stats[\"train\"][\"loss\"]:.3f}'\n",
    "        val_loss = f'{stats[\"val\"][\"loss\"]:.3f}'\n",
    "        test_loss = f'{stats[\"test\"][\"loss\"]:.3f}'\n",
    "        print(f'epoch {e} train {train_loss} val {val_loss} test {test_loss}')\n",
    "                "
   ],
   "metadata": {
    "collapsed": false,
    "ExecuteTime": {
     "end_time": "2025-07-27T13:11:24.874630Z",
     "start_time": "2025-07-27T13:11:24.861255Z"
    }
   },
   "id": "bc1eb350bc321a2f",
   "execution_count": 16
  },
  {
   "cell_type": "code",
   "outputs": [
    {
     "name": "stdout",
     "output_type": "stream",
     "text": [
      "epoch 0 train 0.067 val 0.071 test 0.070\n",
      "epoch 1 train 0.050 val 0.056 test 0.052\n",
      "epoch 2 train 0.037 val 0.048 test 0.042\n",
      "epoch 3 train 0.027 val 0.038 test 0.037\n",
      "epoch 4 train 0.022 val 0.050 test 0.043\n",
      "epoch 5 train 0.026 val 0.040 test 0.047\n",
      "epoch 6 train 0.015 val 0.039 test 0.035\n",
      "epoch 7 train 0.013 val 0.048 test 0.040\n",
      "epoch 8 train 0.020 val 0.052 test 0.052\n",
      "epoch 9 train 0.020 val 0.047 test 0.050\n"
     ]
    }
   ],
   "source": [
    "train_model(model, optim.Adam(model.parameters(), lr=0.01))"
   ],
   "metadata": {
    "collapsed": false,
    "ExecuteTime": {
     "end_time": "2025-07-27T13:15:10.279228Z",
     "start_time": "2025-07-27T13:12:19.616829Z"
    }
   },
   "id": "e3c0ce4bcd97e88e",
   "execution_count": 17
  },
  {
   "cell_type": "code",
   "outputs": [
    {
     "data": {
      "text/plain": "{'train': {'loss': 0.022398078814148903, 'acc': 0.9937999844551086},\n 'val': {'loss': 0.05337437987327576, 'acc': 0.9842000007629395},\n 'test': {'loss': 0.05043790489435196, 'acc': 0.9864000082015991}}"
     },
     "execution_count": 18,
     "metadata": {},
     "output_type": "execute_result"
    }
   ],
   "source": [
    "estimate_loss(model)"
   ],
   "metadata": {
    "collapsed": false,
    "ExecuteTime": {
     "end_time": "2025-07-28T02:51:05.167669Z",
     "start_time": "2025-07-28T02:51:01.367787Z"
    }
   },
   "id": "eb4c151aa07378cf",
   "execution_count": 18
  },
  {
   "cell_type": "code",
   "outputs": [],
   "source": [],
   "metadata": {
    "collapsed": false,
    "ExecuteTime": {
     "end_time": "2025-07-28T02:59:24.329814Z",
     "start_time": "2025-07-28T02:59:24.325854Z"
    }
   },
   "id": "aa0581fc8bbd4264",
   "execution_count": 18
  },
  {
   "cell_type": "code",
   "outputs": [],
   "source": [],
   "metadata": {
    "collapsed": false,
    "ExecuteTime": {
     "end_time": "2025-07-28T02:59:24.458666Z",
     "start_time": "2025-07-28T02:59:24.455145Z"
    }
   },
   "id": "c9f80a8fd8a2ed00",
   "execution_count": 18
  },
  {
   "cell_type": "code",
   "outputs": [],
   "source": [
    "# 卷积神经网络优化 -> 加入层归一化层和随机失活层\n",
    "class CNN2(nn.Module):\n",
    "    def __init__(self):\n",
    "        super().__init__()\n",
    "        self.conv1 = nn.Conv2d(1, 20, (5, 5))\n",
    "        self.ln1 = nn.LayerNorm([20, 24, 24])\n",
    "        self.pool1 = nn.MaxPool2d(2, 2)\n",
    "        self.conv2 = nn.Conv2d(20, 40, (5, 5))\n",
    "        self.ln2 = nn.LayerNorm([40, 8, 8])\n",
    "        self.pool2 = nn.MaxPool2d(2, 2)\n",
    "        self.fc1 = nn.Linear(40 * 4 * 4, 120)\n",
    "        self.dp = nn.Dropout(0.2)\n",
    "        self.fc2 = nn.Linear(120, 10)\n",
    "        \n",
    "    def forward(self, x):\n",
    "        B = x.shape[0]\n",
    "        x = F.relu(self.ln1(self.conv1(x)))\n",
    "        x = self.pool1(x)\n",
    "        x = F.relu(self.ln2(self.conv2(x)))\n",
    "        x = self.pool2(x)\n",
    "        x = F.relu(self.fc1(x.view(B, -1)))\n",
    "        x = self.dp(x)\n",
    "        x = self.fc2(x)\n",
    "        return x\n",
    "    \n",
    "model2 = CNN2()\n",
    "    "
   ],
   "metadata": {
    "collapsed": false,
    "ExecuteTime": {
     "end_time": "2025-07-28T03:26:21.088738Z",
     "start_time": "2025-07-28T03:26:21.075419Z"
    }
   },
   "id": "ec4ba6f9665babe7",
   "execution_count": 23
  },
  {
   "cell_type": "code",
   "outputs": [
    {
     "name": "stdout",
     "output_type": "stream",
     "text": [
      "epoch 0 train 0.076 val 0.076 test 0.065\n",
      "epoch 1 train 0.042 val 0.046 test 0.043\n",
      "epoch 2 train 0.026 val 0.044 test 0.032\n",
      "epoch 3 train 0.026 val 0.035 test 0.034\n",
      "epoch 4 train 0.025 val 0.044 test 0.045\n",
      "epoch 5 train 0.030 val 0.045 test 0.033\n",
      "epoch 6 train 0.010 val 0.040 test 0.033\n",
      "epoch 7 train 0.006 val 0.033 test 0.035\n",
      "epoch 8 train 0.012 val 0.037 test 0.034\n",
      "epoch 9 train 0.005 val 0.024 test 0.037\n"
     ]
    }
   ],
   "source": [
    "train_model(model2, optimizer=optim.Adam(model2.parameters(), lr=0.01))"
   ],
   "metadata": {
    "collapsed": false,
    "ExecuteTime": {
     "end_time": "2025-07-28T03:29:35.084463Z",
     "start_time": "2025-07-28T03:26:23.150263Z"
    }
   },
   "id": "1b626622a055a0b0",
   "execution_count": 24
  },
  {
   "cell_type": "code",
   "outputs": [],
   "source": [],
   "metadata": {
    "collapsed": false
   },
   "id": "b84eee5217738d16"
  }
 ],
 "metadata": {
  "kernelspec": {
   "display_name": "pytorch22",
   "language": "python",
   "name": "pytorch22"
  },
  "language_info": {
   "codemirror_mode": {
    "name": "ipython",
    "version": 3
   },
   "file_extension": ".py",
   "mimetype": "text/x-python",
   "name": "python",
   "nbconvert_exporter": "python",
   "pygments_lexer": "ipython3",
   "version": "3.11.8"
  }
 },
 "nbformat": 4,
 "nbformat_minor": 5
}
